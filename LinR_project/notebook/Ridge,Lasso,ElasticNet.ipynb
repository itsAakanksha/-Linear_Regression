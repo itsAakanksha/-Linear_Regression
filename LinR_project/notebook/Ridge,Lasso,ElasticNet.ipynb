{
 "cells": [
  {
   "cell_type": "code",
   "execution_count": 3,
   "id": "bec34625",
   "metadata": {},
   "outputs": [],
   "source": [
    "import pandas as pd\n",
    "import numpy as np\n",
    "import seaborn as sns\n",
    "import matplotlib.pyplot as plt\n",
    "%matplotlib inline"
   ]
  },
  {
   "cell_type": "code",
   "execution_count": 4,
   "id": "73ac875f",
   "metadata": {},
   "outputs": [],
   "source": [
    "df = pd.read_csv('Analyzed_Algerian_forest_fires.csv')"
   ]
  },
  {
   "cell_type": "code",
   "execution_count": 5,
   "id": "76fe0d4d",
   "metadata": {},
   "outputs": [
    {
     "data": {
      "text/html": [
       "<div>\n",
       "<style scoped>\n",
       "    .dataframe tbody tr th:only-of-type {\n",
       "        vertical-align: middle;\n",
       "    }\n",
       "\n",
       "    .dataframe tbody tr th {\n",
       "        vertical-align: top;\n",
       "    }\n",
       "\n",
       "    .dataframe thead th {\n",
       "        text-align: right;\n",
       "    }\n",
       "</style>\n",
       "<table border=\"1\" class=\"dataframe\">\n",
       "  <thead>\n",
       "    <tr style=\"text-align: right;\">\n",
       "      <th></th>\n",
       "      <th>Temperature</th>\n",
       "      <th>RH</th>\n",
       "      <th>Ws</th>\n",
       "      <th>Rain</th>\n",
       "      <th>FFMC</th>\n",
       "      <th>DMC</th>\n",
       "      <th>DC</th>\n",
       "      <th>ISI</th>\n",
       "      <th>BUI</th>\n",
       "      <th>FWI</th>\n",
       "      <th>Classes</th>\n",
       "      <th>Region</th>\n",
       "    </tr>\n",
       "  </thead>\n",
       "  <tbody>\n",
       "    <tr>\n",
       "      <th>0</th>\n",
       "      <td>29</td>\n",
       "      <td>57</td>\n",
       "      <td>18</td>\n",
       "      <td>0.0</td>\n",
       "      <td>65.7</td>\n",
       "      <td>3.4</td>\n",
       "      <td>7.6</td>\n",
       "      <td>1.3</td>\n",
       "      <td>3.4</td>\n",
       "      <td>0.5</td>\n",
       "      <td>0</td>\n",
       "      <td>0</td>\n",
       "    </tr>\n",
       "    <tr>\n",
       "      <th>1</th>\n",
       "      <td>29</td>\n",
       "      <td>61</td>\n",
       "      <td>13</td>\n",
       "      <td>1.3</td>\n",
       "      <td>64.4</td>\n",
       "      <td>4.1</td>\n",
       "      <td>7.6</td>\n",
       "      <td>1.0</td>\n",
       "      <td>3.9</td>\n",
       "      <td>0.4</td>\n",
       "      <td>0</td>\n",
       "      <td>0</td>\n",
       "    </tr>\n",
       "    <tr>\n",
       "      <th>2</th>\n",
       "      <td>26</td>\n",
       "      <td>82</td>\n",
       "      <td>22</td>\n",
       "      <td>13.1</td>\n",
       "      <td>47.1</td>\n",
       "      <td>2.5</td>\n",
       "      <td>7.1</td>\n",
       "      <td>0.3</td>\n",
       "      <td>2.7</td>\n",
       "      <td>0.1</td>\n",
       "      <td>0</td>\n",
       "      <td>0</td>\n",
       "    </tr>\n",
       "    <tr>\n",
       "      <th>3</th>\n",
       "      <td>25</td>\n",
       "      <td>89</td>\n",
       "      <td>13</td>\n",
       "      <td>2.5</td>\n",
       "      <td>28.6</td>\n",
       "      <td>1.3</td>\n",
       "      <td>6.9</td>\n",
       "      <td>0.0</td>\n",
       "      <td>1.7</td>\n",
       "      <td>0.0</td>\n",
       "      <td>0</td>\n",
       "      <td>0</td>\n",
       "    </tr>\n",
       "    <tr>\n",
       "      <th>4</th>\n",
       "      <td>27</td>\n",
       "      <td>77</td>\n",
       "      <td>16</td>\n",
       "      <td>0.0</td>\n",
       "      <td>64.8</td>\n",
       "      <td>3.0</td>\n",
       "      <td>14.2</td>\n",
       "      <td>1.2</td>\n",
       "      <td>3.9</td>\n",
       "      <td>0.5</td>\n",
       "      <td>0</td>\n",
       "      <td>0</td>\n",
       "    </tr>\n",
       "  </tbody>\n",
       "</table>\n",
       "</div>"
      ],
      "text/plain": [
       "   Temperature  RH  Ws  Rain  FFMC  DMC    DC  ISI  BUI  FWI  Classes  Region\n",
       "0           29  57  18   0.0  65.7  3.4   7.6  1.3  3.4  0.5        0       0\n",
       "1           29  61  13   1.3  64.4  4.1   7.6  1.0  3.9  0.4        0       0\n",
       "2           26  82  22  13.1  47.1  2.5   7.1  0.3  2.7  0.1        0       0\n",
       "3           25  89  13   2.5  28.6  1.3   6.9  0.0  1.7  0.0        0       0\n",
       "4           27  77  16   0.0  64.8  3.0  14.2  1.2  3.9  0.5        0       0"
      ]
     },
     "execution_count": 5,
     "metadata": {},
     "output_type": "execute_result"
    }
   ],
   "source": [
    "df.head()"
   ]
  },
  {
   "cell_type": "code",
   "execution_count": 6,
   "id": "fc2b57f6",
   "metadata": {},
   "outputs": [],
   "source": [
    "x=df.drop('FWI',axis=1)\n",
    "y=df['FWI']"
   ]
  },
  {
   "cell_type": "code",
   "execution_count": 7,
   "id": "570b8896",
   "metadata": {},
   "outputs": [
    {
     "data": {
      "text/html": [
       "<div>\n",
       "<style scoped>\n",
       "    .dataframe tbody tr th:only-of-type {\n",
       "        vertical-align: middle;\n",
       "    }\n",
       "\n",
       "    .dataframe tbody tr th {\n",
       "        vertical-align: top;\n",
       "    }\n",
       "\n",
       "    .dataframe thead th {\n",
       "        text-align: right;\n",
       "    }\n",
       "</style>\n",
       "<table border=\"1\" class=\"dataframe\">\n",
       "  <thead>\n",
       "    <tr style=\"text-align: right;\">\n",
       "      <th></th>\n",
       "      <th>Temperature</th>\n",
       "      <th>RH</th>\n",
       "      <th>Ws</th>\n",
       "      <th>Rain</th>\n",
       "      <th>FFMC</th>\n",
       "      <th>DMC</th>\n",
       "      <th>DC</th>\n",
       "      <th>ISI</th>\n",
       "      <th>BUI</th>\n",
       "      <th>Classes</th>\n",
       "      <th>Region</th>\n",
       "    </tr>\n",
       "  </thead>\n",
       "  <tbody>\n",
       "    <tr>\n",
       "      <th>0</th>\n",
       "      <td>29</td>\n",
       "      <td>57</td>\n",
       "      <td>18</td>\n",
       "      <td>0.0</td>\n",
       "      <td>65.7</td>\n",
       "      <td>3.4</td>\n",
       "      <td>7.6</td>\n",
       "      <td>1.3</td>\n",
       "      <td>3.4</td>\n",
       "      <td>0</td>\n",
       "      <td>0</td>\n",
       "    </tr>\n",
       "    <tr>\n",
       "      <th>1</th>\n",
       "      <td>29</td>\n",
       "      <td>61</td>\n",
       "      <td>13</td>\n",
       "      <td>1.3</td>\n",
       "      <td>64.4</td>\n",
       "      <td>4.1</td>\n",
       "      <td>7.6</td>\n",
       "      <td>1.0</td>\n",
       "      <td>3.9</td>\n",
       "      <td>0</td>\n",
       "      <td>0</td>\n",
       "    </tr>\n",
       "    <tr>\n",
       "      <th>2</th>\n",
       "      <td>26</td>\n",
       "      <td>82</td>\n",
       "      <td>22</td>\n",
       "      <td>13.1</td>\n",
       "      <td>47.1</td>\n",
       "      <td>2.5</td>\n",
       "      <td>7.1</td>\n",
       "      <td>0.3</td>\n",
       "      <td>2.7</td>\n",
       "      <td>0</td>\n",
       "      <td>0</td>\n",
       "    </tr>\n",
       "    <tr>\n",
       "      <th>3</th>\n",
       "      <td>25</td>\n",
       "      <td>89</td>\n",
       "      <td>13</td>\n",
       "      <td>2.5</td>\n",
       "      <td>28.6</td>\n",
       "      <td>1.3</td>\n",
       "      <td>6.9</td>\n",
       "      <td>0.0</td>\n",
       "      <td>1.7</td>\n",
       "      <td>0</td>\n",
       "      <td>0</td>\n",
       "    </tr>\n",
       "    <tr>\n",
       "      <th>4</th>\n",
       "      <td>27</td>\n",
       "      <td>77</td>\n",
       "      <td>16</td>\n",
       "      <td>0.0</td>\n",
       "      <td>64.8</td>\n",
       "      <td>3.0</td>\n",
       "      <td>14.2</td>\n",
       "      <td>1.2</td>\n",
       "      <td>3.9</td>\n",
       "      <td>0</td>\n",
       "      <td>0</td>\n",
       "    </tr>\n",
       "    <tr>\n",
       "      <th>...</th>\n",
       "      <td>...</td>\n",
       "      <td>...</td>\n",
       "      <td>...</td>\n",
       "      <td>...</td>\n",
       "      <td>...</td>\n",
       "      <td>...</td>\n",
       "      <td>...</td>\n",
       "      <td>...</td>\n",
       "      <td>...</td>\n",
       "      <td>...</td>\n",
       "      <td>...</td>\n",
       "    </tr>\n",
       "    <tr>\n",
       "      <th>238</th>\n",
       "      <td>30</td>\n",
       "      <td>65</td>\n",
       "      <td>14</td>\n",
       "      <td>0.0</td>\n",
       "      <td>85.4</td>\n",
       "      <td>16.0</td>\n",
       "      <td>44.5</td>\n",
       "      <td>4.5</td>\n",
       "      <td>16.9</td>\n",
       "      <td>1</td>\n",
       "      <td>1</td>\n",
       "    </tr>\n",
       "    <tr>\n",
       "      <th>239</th>\n",
       "      <td>28</td>\n",
       "      <td>87</td>\n",
       "      <td>15</td>\n",
       "      <td>4.4</td>\n",
       "      <td>41.1</td>\n",
       "      <td>6.5</td>\n",
       "      <td>8.0</td>\n",
       "      <td>0.1</td>\n",
       "      <td>6.2</td>\n",
       "      <td>0</td>\n",
       "      <td>1</td>\n",
       "    </tr>\n",
       "    <tr>\n",
       "      <th>240</th>\n",
       "      <td>27</td>\n",
       "      <td>87</td>\n",
       "      <td>29</td>\n",
       "      <td>0.5</td>\n",
       "      <td>45.9</td>\n",
       "      <td>3.5</td>\n",
       "      <td>7.9</td>\n",
       "      <td>0.4</td>\n",
       "      <td>3.4</td>\n",
       "      <td>0</td>\n",
       "      <td>1</td>\n",
       "    </tr>\n",
       "    <tr>\n",
       "      <th>241</th>\n",
       "      <td>24</td>\n",
       "      <td>54</td>\n",
       "      <td>18</td>\n",
       "      <td>0.1</td>\n",
       "      <td>79.7</td>\n",
       "      <td>4.3</td>\n",
       "      <td>15.2</td>\n",
       "      <td>1.7</td>\n",
       "      <td>5.1</td>\n",
       "      <td>0</td>\n",
       "      <td>1</td>\n",
       "    </tr>\n",
       "    <tr>\n",
       "      <th>242</th>\n",
       "      <td>24</td>\n",
       "      <td>64</td>\n",
       "      <td>15</td>\n",
       "      <td>0.2</td>\n",
       "      <td>67.3</td>\n",
       "      <td>3.8</td>\n",
       "      <td>16.5</td>\n",
       "      <td>1.2</td>\n",
       "      <td>4.8</td>\n",
       "      <td>0</td>\n",
       "      <td>1</td>\n",
       "    </tr>\n",
       "  </tbody>\n",
       "</table>\n",
       "<p>243 rows × 11 columns</p>\n",
       "</div>"
      ],
      "text/plain": [
       "     Temperature  RH  Ws  Rain  FFMC   DMC    DC  ISI   BUI  Classes  Region\n",
       "0             29  57  18   0.0  65.7   3.4   7.6  1.3   3.4        0       0\n",
       "1             29  61  13   1.3  64.4   4.1   7.6  1.0   3.9        0       0\n",
       "2             26  82  22  13.1  47.1   2.5   7.1  0.3   2.7        0       0\n",
       "3             25  89  13   2.5  28.6   1.3   6.9  0.0   1.7        0       0\n",
       "4             27  77  16   0.0  64.8   3.0  14.2  1.2   3.9        0       0\n",
       "..           ...  ..  ..   ...   ...   ...   ...  ...   ...      ...     ...\n",
       "238           30  65  14   0.0  85.4  16.0  44.5  4.5  16.9        1       1\n",
       "239           28  87  15   4.4  41.1   6.5   8.0  0.1   6.2        0       1\n",
       "240           27  87  29   0.5  45.9   3.5   7.9  0.4   3.4        0       1\n",
       "241           24  54  18   0.1  79.7   4.3  15.2  1.7   5.1        0       1\n",
       "242           24  64  15   0.2  67.3   3.8  16.5  1.2   4.8        0       1\n",
       "\n",
       "[243 rows x 11 columns]"
      ]
     },
     "execution_count": 7,
     "metadata": {},
     "output_type": "execute_result"
    }
   ],
   "source": [
    "x"
   ]
  },
  {
   "cell_type": "code",
   "execution_count": 8,
   "id": "0d2f26a3",
   "metadata": {},
   "outputs": [
    {
     "data": {
      "text/plain": [
       "0      0.5\n",
       "1      0.4\n",
       "2      0.1\n",
       "3      0.0\n",
       "4      0.5\n",
       "      ... \n",
       "238    6.5\n",
       "239    0.0\n",
       "240    0.2\n",
       "241    0.7\n",
       "242    0.5\n",
       "Name: FWI, Length: 243, dtype: float64"
      ]
     },
     "execution_count": 8,
     "metadata": {},
     "output_type": "execute_result"
    }
   ],
   "source": [
    "y"
   ]
  },
  {
   "cell_type": "code",
   "execution_count": 9,
   "id": "c4423898",
   "metadata": {},
   "outputs": [],
   "source": [
    "# Train Test Split\n",
    "from sklearn.model_selection import train_test_split"
   ]
  },
  {
   "cell_type": "code",
   "execution_count": 10,
   "id": "b7756dbe",
   "metadata": {},
   "outputs": [],
   "source": [
    "x_train,x_test,y_train,y_test = train_test_split(x,y,test_size=0.25,random_state=42)"
   ]
  },
  {
   "cell_type": "code",
   "execution_count": 11,
   "id": "d8d72f3c",
   "metadata": {},
   "outputs": [
    {
     "data": {
      "text/plain": [
       "((182, 11), (61, 11))"
      ]
     },
     "execution_count": 11,
     "metadata": {},
     "output_type": "execute_result"
    }
   ],
   "source": [
    "x_train.shape,x_test.shape"
   ]
  },
  {
   "cell_type": "code",
   "execution_count": 12,
   "id": "11e59b5d",
   "metadata": {},
   "outputs": [
    {
     "data": {
      "text/plain": [
       "((182,), (61,))"
      ]
     },
     "execution_count": 12,
     "metadata": {},
     "output_type": "execute_result"
    }
   ],
   "source": [
    "y_train.shape,y_test.shape"
   ]
  },
  {
   "cell_type": "code",
   "execution_count": 13,
   "id": "c19015fe",
   "metadata": {},
   "outputs": [],
   "source": [
    "# Feature selection based on corelation"
   ]
  },
  {
   "cell_type": "code",
   "execution_count": 14,
   "id": "817fb691",
   "metadata": {},
   "outputs": [
    {
     "data": {
      "text/html": [
       "<div>\n",
       "<style scoped>\n",
       "    .dataframe tbody tr th:only-of-type {\n",
       "        vertical-align: middle;\n",
       "    }\n",
       "\n",
       "    .dataframe tbody tr th {\n",
       "        vertical-align: top;\n",
       "    }\n",
       "\n",
       "    .dataframe thead th {\n",
       "        text-align: right;\n",
       "    }\n",
       "</style>\n",
       "<table border=\"1\" class=\"dataframe\">\n",
       "  <thead>\n",
       "    <tr style=\"text-align: right;\">\n",
       "      <th></th>\n",
       "      <th>Temperature</th>\n",
       "      <th>RH</th>\n",
       "      <th>Ws</th>\n",
       "      <th>Rain</th>\n",
       "      <th>FFMC</th>\n",
       "      <th>DMC</th>\n",
       "      <th>DC</th>\n",
       "      <th>ISI</th>\n",
       "      <th>BUI</th>\n",
       "      <th>Classes</th>\n",
       "      <th>Region</th>\n",
       "    </tr>\n",
       "  </thead>\n",
       "  <tbody>\n",
       "    <tr>\n",
       "      <th>Temperature</th>\n",
       "      <td>1.000000</td>\n",
       "      <td>-0.656095</td>\n",
       "      <td>-0.305977</td>\n",
       "      <td>-0.317512</td>\n",
       "      <td>0.694768</td>\n",
       "      <td>0.498173</td>\n",
       "      <td>0.390684</td>\n",
       "      <td>0.629848</td>\n",
       "      <td>0.473609</td>\n",
       "      <td>0.542141</td>\n",
       "      <td>0.254549</td>\n",
       "    </tr>\n",
       "    <tr>\n",
       "      <th>RH</th>\n",
       "      <td>-0.656095</td>\n",
       "      <td>1.000000</td>\n",
       "      <td>0.225736</td>\n",
       "      <td>0.241656</td>\n",
       "      <td>-0.653023</td>\n",
       "      <td>-0.414601</td>\n",
       "      <td>-0.236078</td>\n",
       "      <td>-0.717804</td>\n",
       "      <td>-0.362317</td>\n",
       "      <td>-0.456876</td>\n",
       "      <td>-0.394665</td>\n",
       "    </tr>\n",
       "    <tr>\n",
       "      <th>Ws</th>\n",
       "      <td>-0.305977</td>\n",
       "      <td>0.225736</td>\n",
       "      <td>1.000000</td>\n",
       "      <td>0.251932</td>\n",
       "      <td>-0.190076</td>\n",
       "      <td>0.000379</td>\n",
       "      <td>0.096576</td>\n",
       "      <td>-0.023558</td>\n",
       "      <td>0.035633</td>\n",
       "      <td>-0.082570</td>\n",
       "      <td>-0.199969</td>\n",
       "    </tr>\n",
       "    <tr>\n",
       "      <th>Rain</th>\n",
       "      <td>-0.317512</td>\n",
       "      <td>0.241656</td>\n",
       "      <td>0.251932</td>\n",
       "      <td>1.000000</td>\n",
       "      <td>-0.545491</td>\n",
       "      <td>-0.289754</td>\n",
       "      <td>-0.302341</td>\n",
       "      <td>-0.345707</td>\n",
       "      <td>-0.300964</td>\n",
       "      <td>-0.369357</td>\n",
       "      <td>-0.059022</td>\n",
       "    </tr>\n",
       "    <tr>\n",
       "      <th>FFMC</th>\n",
       "      <td>0.694768</td>\n",
       "      <td>-0.653023</td>\n",
       "      <td>-0.190076</td>\n",
       "      <td>-0.545491</td>\n",
       "      <td>1.000000</td>\n",
       "      <td>0.620807</td>\n",
       "      <td>0.524101</td>\n",
       "      <td>0.750799</td>\n",
       "      <td>0.607210</td>\n",
       "      <td>0.781259</td>\n",
       "      <td>0.249514</td>\n",
       "    </tr>\n",
       "    <tr>\n",
       "      <th>DMC</th>\n",
       "      <td>0.498173</td>\n",
       "      <td>-0.414601</td>\n",
       "      <td>0.000379</td>\n",
       "      <td>-0.289754</td>\n",
       "      <td>0.620807</td>\n",
       "      <td>1.000000</td>\n",
       "      <td>0.868647</td>\n",
       "      <td>0.685656</td>\n",
       "      <td>0.983175</td>\n",
       "      <td>0.617273</td>\n",
       "      <td>0.212582</td>\n",
       "    </tr>\n",
       "    <tr>\n",
       "      <th>DC</th>\n",
       "      <td>0.390684</td>\n",
       "      <td>-0.236078</td>\n",
       "      <td>0.096576</td>\n",
       "      <td>-0.302341</td>\n",
       "      <td>0.524101</td>\n",
       "      <td>0.868647</td>\n",
       "      <td>1.000000</td>\n",
       "      <td>0.513701</td>\n",
       "      <td>0.942414</td>\n",
       "      <td>0.543581</td>\n",
       "      <td>-0.060838</td>\n",
       "    </tr>\n",
       "    <tr>\n",
       "      <th>ISI</th>\n",
       "      <td>0.629848</td>\n",
       "      <td>-0.717804</td>\n",
       "      <td>-0.023558</td>\n",
       "      <td>-0.345707</td>\n",
       "      <td>0.750799</td>\n",
       "      <td>0.685656</td>\n",
       "      <td>0.513701</td>\n",
       "      <td>1.000000</td>\n",
       "      <td>0.643818</td>\n",
       "      <td>0.742977</td>\n",
       "      <td>0.296441</td>\n",
       "    </tr>\n",
       "    <tr>\n",
       "      <th>BUI</th>\n",
       "      <td>0.473609</td>\n",
       "      <td>-0.362317</td>\n",
       "      <td>0.035633</td>\n",
       "      <td>-0.300964</td>\n",
       "      <td>0.607210</td>\n",
       "      <td>0.983175</td>\n",
       "      <td>0.942414</td>\n",
       "      <td>0.643818</td>\n",
       "      <td>1.000000</td>\n",
       "      <td>0.612239</td>\n",
       "      <td>0.114897</td>\n",
       "    </tr>\n",
       "    <tr>\n",
       "      <th>Classes</th>\n",
       "      <td>0.542141</td>\n",
       "      <td>-0.456876</td>\n",
       "      <td>-0.082570</td>\n",
       "      <td>-0.369357</td>\n",
       "      <td>0.781259</td>\n",
       "      <td>0.617273</td>\n",
       "      <td>0.543581</td>\n",
       "      <td>0.742977</td>\n",
       "      <td>0.612239</td>\n",
       "      <td>1.000000</td>\n",
       "      <td>0.188837</td>\n",
       "    </tr>\n",
       "    <tr>\n",
       "      <th>Region</th>\n",
       "      <td>0.254549</td>\n",
       "      <td>-0.394665</td>\n",
       "      <td>-0.199969</td>\n",
       "      <td>-0.059022</td>\n",
       "      <td>0.249514</td>\n",
       "      <td>0.212582</td>\n",
       "      <td>-0.060838</td>\n",
       "      <td>0.296441</td>\n",
       "      <td>0.114897</td>\n",
       "      <td>0.188837</td>\n",
       "      <td>1.000000</td>\n",
       "    </tr>\n",
       "  </tbody>\n",
       "</table>\n",
       "</div>"
      ],
      "text/plain": [
       "             Temperature        RH        Ws      Rain      FFMC       DMC  \\\n",
       "Temperature     1.000000 -0.656095 -0.305977 -0.317512  0.694768  0.498173   \n",
       "RH             -0.656095  1.000000  0.225736  0.241656 -0.653023 -0.414601   \n",
       "Ws             -0.305977  0.225736  1.000000  0.251932 -0.190076  0.000379   \n",
       "Rain           -0.317512  0.241656  0.251932  1.000000 -0.545491 -0.289754   \n",
       "FFMC            0.694768 -0.653023 -0.190076 -0.545491  1.000000  0.620807   \n",
       "DMC             0.498173 -0.414601  0.000379 -0.289754  0.620807  1.000000   \n",
       "DC              0.390684 -0.236078  0.096576 -0.302341  0.524101  0.868647   \n",
       "ISI             0.629848 -0.717804 -0.023558 -0.345707  0.750799  0.685656   \n",
       "BUI             0.473609 -0.362317  0.035633 -0.300964  0.607210  0.983175   \n",
       "Classes         0.542141 -0.456876 -0.082570 -0.369357  0.781259  0.617273   \n",
       "Region          0.254549 -0.394665 -0.199969 -0.059022  0.249514  0.212582   \n",
       "\n",
       "                   DC       ISI       BUI   Classes    Region  \n",
       "Temperature  0.390684  0.629848  0.473609  0.542141  0.254549  \n",
       "RH          -0.236078 -0.717804 -0.362317 -0.456876 -0.394665  \n",
       "Ws           0.096576 -0.023558  0.035633 -0.082570 -0.199969  \n",
       "Rain        -0.302341 -0.345707 -0.300964 -0.369357 -0.059022  \n",
       "FFMC         0.524101  0.750799  0.607210  0.781259  0.249514  \n",
       "DMC          0.868647  0.685656  0.983175  0.617273  0.212582  \n",
       "DC           1.000000  0.513701  0.942414  0.543581 -0.060838  \n",
       "ISI          0.513701  1.000000  0.643818  0.742977  0.296441  \n",
       "BUI          0.942414  0.643818  1.000000  0.612239  0.114897  \n",
       "Classes      0.543581  0.742977  0.612239  1.000000  0.188837  \n",
       "Region      -0.060838  0.296441  0.114897  0.188837  1.000000  "
      ]
     },
     "execution_count": 14,
     "metadata": {},
     "output_type": "execute_result"
    }
   ],
   "source": [
    "x_train.corr()"
   ]
  },
  {
   "cell_type": "markdown",
   "id": "c5c4265d",
   "metadata": {},
   "source": [
    "# Feature Selection"
   ]
  },
  {
   "cell_type": "markdown",
   "id": "901d2fe2",
   "metadata": {},
   "source": [
    "### Multicolinearity\n",
    "- If independent features is highly corelated then these features is be alike. So we can remove one feature.\n",
    "- if one dependent features and one independent feature is highly corelated then that feature is very much important because it will contribute in prediction"
   ]
  },
  {
   "cell_type": "markdown",
   "id": "0edf16e3",
   "metadata": {},
   "source": [
    "#### Threshold value of is given by domain expert who has very good knowledge about product that which product is highly corelated with whom and how much it is . \n",
    "- We will see which independent feature is highly corelated with other. and if we get feature which is highly corelated and greater than a threshold value , we will remove that feature"
   ]
  },
  {
   "cell_type": "code",
   "execution_count": 17,
   "id": "ec8b759b",
   "metadata": {},
   "outputs": [
    {
     "data": {
      "text/plain": [
       "<AxesSubplot:>"
      ]
     },
     "execution_count": 17,
     "metadata": {},
     "output_type": "execute_result"
    },
    {
     "data": {
      "image/png": "[encoded data removed]",
      "text/plain": [
       "<Figure size 1200x1000 with 2 Axes>"
      ]
     },
     "metadata": {},
     "output_type": "display_data"
    }
   ],
   "source": [
    "x_corr = x_train.corr()\n",
    "plt.figure(figsize=(12,10))\n",
    "sns.heatmap(x_corr,annot =True)"
   ]
  },
  {
   "cell_type": "code",
   "execution_count": 18,
   "id": "91e63b5e",
   "metadata": {},
   "outputs": [
    {
     "data": {
      "text/plain": [
       "Index(['Temperature', 'RH', 'Ws', 'Rain', 'FFMC', 'DMC', 'DC', 'ISI', 'BUI',\n",
       "       'Classes', 'Region'],\n",
       "      dtype='object')"
      ]
     },
     "execution_count": 18,
     "metadata": {},
     "output_type": "execute_result"
    }
   ],
   "source": [
    "x_corr.columns"
   ]
  },
  {
   "cell_type": "code",
   "execution_count": 29,
   "id": "3e59f4a0",
   "metadata": {},
   "outputs": [],
   "source": [
    "threshold =0.85\n",
    "col_corr = set()\n",
    "for i in range(len(x_corr.columns)):\n",
    "    for j in range(i):\n",
    "        if abs(x_corr.iloc[i,j])>threshold:\n",
    "            colname=x_corr.columns[i]\n",
    "            col_corr.add(colname)"
   ]
  },
  {
   "cell_type": "code",
   "execution_count": 30,
   "id": "aef987c7",
   "metadata": {},
   "outputs": [
    {
     "data": {
      "text/plain": [
       "{'BUI', 'DC'}"
      ]
     },
     "execution_count": 30,
     "metadata": {},
     "output_type": "execute_result"
    }
   ],
   "source": [
    "col_corr"
   ]
  },
  {
   "cell_type": "code",
   "execution_count": 31,
   "id": "440fd6d4",
   "metadata": {},
   "outputs": [],
   "source": [
    "# Drop Features when corelation is more than 0.85\n",
    "x_train.drop(col_corr,axis=1,inplace =True)\n",
    "x_test.drop(col_corr,axis=1,inplace=True)"
   ]
  },
  {
   "cell_type": "code",
   "execution_count": 32,
   "id": "b9c0aede",
   "metadata": {},
   "outputs": [
    {
     "data": {
      "text/plain": [
       "((182, 9), (61, 9))"
      ]
     },
     "execution_count": 32,
     "metadata": {},
     "output_type": "execute_result"
    }
   ],
   "source": [
    "x_train.shape,x_test.shape"
   ]
  },
  {
   "cell_type": "markdown",
   "id": "082c377f",
   "metadata": {},
   "source": [
    "# Feature Scaling or Standardization"
   ]
  },
  {
   "cell_type": "code",
   "execution_count": 33,
   "id": "209e55fb",
   "metadata": {},
   "outputs": [],
   "source": [
    "from sklearn.preprocessing import StandardScaler"
   ]
  },
  {
   "cell_type": "code",
   "execution_count": 34,
   "id": "fc4c2011",
   "metadata": {},
   "outputs": [],
   "source": [
    "scaler = StandardScaler()\n",
    "x_trained_scaled = scaler.fit_transform(x_train)\n",
    "x_test_scaled = scaler.transform(x_test)"
   ]
  },
  {
   "cell_type": "code",
   "execution_count": 35,
   "id": "3c5b87d1",
   "metadata": {},
   "outputs": [
    {
     "data": {
      "text/plain": [
       "array([[-0.84284248,  0.78307967,  1.29972026, ..., -0.62963326,\n",
       "        -1.10431526, -0.98907071],\n",
       "       [-0.30175842,  0.64950844, -0.59874754, ..., -0.93058524,\n",
       "        -1.10431526,  1.01105006],\n",
       "       [ 2.13311985, -2.08870172, -0.21905398, ...,  2.7271388 ,\n",
       "         0.90553851,  1.01105006],\n",
       "       ...,\n",
       "       [-1.9250106 ,  0.9166509 ,  0.54033314, ..., -1.06948615,\n",
       "        -1.10431526, -0.98907071],\n",
       "       [ 0.50986767, -0.21870454,  0.16063958, ...,  0.5973248 ,\n",
       "         0.90553851,  1.01105006],\n",
       "       [-0.57230045,  0.98343651,  2.05910739, ..., -0.86113478,\n",
       "        -1.10431526, -0.98907071]])"
      ]
     },
     "execution_count": 35,
     "metadata": {},
     "output_type": "execute_result"
    }
   ],
   "source": [
    "x_trained_scaled"
   ]
  },
  {
   "cell_type": "code",
   "execution_count": 36,
   "id": "2104eb47",
   "metadata": {},
   "outputs": [
    {
     "data": {
      "text/plain": [
       "array([[-3.01758418e-01,  1.15223531e-01, -2.19053977e-01,\n",
       "        -3.84060174e-01,  6.33218240e-01, -4.25075679e-02,\n",
       "         2.03772218e-01,  9.05538514e-01, -9.89070710e-01],\n",
       "       [ 2.39325642e-01, -5.52632606e-01, -9.78441098e-01,\n",
       "        -3.84060174e-01,  7.37980727e-01, -3.83352062e-01,\n",
       "         3.65823283e-01,  9.05538514e-01, -9.89070710e-01],\n",
       "       [-1.11338451e+00, -2.85490151e-01,  9.20026704e-01,\n",
       "         6.45241658e-01, -9.73139891e-01, -9.14435344e-01,\n",
       "        -8.37984627e-01, -1.10431526e+00,  1.01105006e+00],\n",
       "       [ 5.09867672e-01, -2.85490151e-01, -9.78441098e-01,\n",
       "        -2.90487280e-01,  1.30358303e-01,  3.14190159e-01,\n",
       "        -6.29633258e-01, -1.10431526e+00,  1.01105006e+00],\n",
       "       [-5.72300448e-01,  1.82009145e-01, -5.98747538e-01,\n",
       "        -3.84060174e-01,  5.42424085e-01,  1.00171523e-01,\n",
       "        -7.40296073e-02,  9.05538514e-01,  1.01105006e+00],\n",
       "       [ 1.86257782e+00,  1.15223531e-01, -2.49721534e+00,\n",
       "         1.77377189e-01, -2.67739147e-01, -2.40672972e-01,\n",
       "        -8.61134779e-01, -1.10431526e+00,  1.01105006e+00],\n",
       "       [-1.11338451e+00,  8.49865282e-01,  1.60639583e-01,\n",
       "        -3.84060174e-01,  3.18930780e-01, -8.19315950e-01,\n",
       "        -3.51831432e-01,  9.05538514e-01,  1.01105006e+00],\n",
       "       [ 1.32149376e+00, -1.75477365e+00, -9.78441098e-01,\n",
       "        -1.03341493e-01,  5.98297411e-01,  2.50777229e-01,\n",
       "        -4.57915097e-03,  9.05538514e-01,  1.01105006e+00],\n",
       "       [-1.11338451e+00,  1.11700774e+00, -1.35813466e+00,\n",
       "        -3.84060174e-01, -3.09644141e-01, -4.15058527e-01,\n",
       "        -8.14834475e-01, -1.10431526e+00, -9.89070710e-01],\n",
       "       [-3.01758418e-01, -8.19775060e-01,  1.29972026e+00,\n",
       "        -1.03341493e-01,  1.16274848e-02, -3.27865749e-01,\n",
       "        -5.60182801e-01, -1.10431526e+00, -9.89070710e-01],\n",
       "       [-1.11338451e+00,  9.16650896e-01,  2.05910739e+00,\n",
       "        -3.84060174e-01, -3.51549136e-01, -6.13223930e-01,\n",
       "        -9.53735387e-01, -1.10431526e+00, -9.89070710e-01],\n",
       "       [ 7.80409702e-01, -4.19061378e-01, -5.98747538e-01,\n",
       "        -1.96914386e-01,  1.09405806e-01,  1.76476091e+00,\n",
       "        -6.29633258e-01, -1.10431526e+00,  1.01105006e+00],\n",
       "       [-3.12163881e-02, -7.52989447e-01, -9.78441098e-01,\n",
       "        -3.84060174e-01,  7.72901556e-01,  1.00171523e-01,\n",
       "         4.81574043e-01,  9.05538514e-01,  1.01105006e+00],\n",
       "       [ 1.05095173e+00, -8.19775060e-01,  1.60639583e-01,\n",
       "        -3.84060174e-01,  8.56711545e-01,  1.42391642e+00,\n",
       "         1.08347800e+00,  9.05538514e-01,  1.01105006e+00],\n",
       "       [ 1.05095173e+00, -4.85846992e-01,  9.20026704e-01,\n",
       "        -3.84060174e-01,  8.00838219e-01,  1.48732935e+00,\n",
       "         1.17607861e+00,  9.05538514e-01, -9.89070710e-01],\n",
       "       [ 5.09867672e-01, -7.52989447e-01,  1.60639583e-01,\n",
       "         1.39382481e+00, -9.32501256e-03, -5.33957769e-01,\n",
       "        -6.52783410e-01, -1.10431526e+00,  1.01105006e+00],\n",
       "       [-1.65446857e+00, -8.86560674e-01, -3.63629602e+00,\n",
       "         5.51668764e-01, -1.14075987e+00, -2.24819739e-01,\n",
       "        -9.76885539e-01, -1.10431526e+00,  1.01105006e+00],\n",
       "       [-8.42842478e-01,  1.78486387e+00, -9.78441098e-01,\n",
       "        -5.65550457e-02, -2.90076965e+00, -1.03333459e+00,\n",
       "        -1.11578645e+00, -1.10431526e+00, -9.89070710e-01],\n",
       "       [-3.12163881e-02,  8.49865282e-01, -5.98747538e-01,\n",
       "        -3.84060174e-01,  6.12265743e-01, -1.37626962e-01,\n",
       "         8.80214574e-02,  9.05538514e-01, -9.89070710e-01],\n",
       "       [ 7.80409702e-01, -5.52632606e-01, -1.73782822e+00,\n",
       "        -3.37273727e-01,  4.23693266e-01, -5.02251304e-01,\n",
       "        -3.98131737e-01,  9.05538514e-01,  1.01105006e+00],\n",
       "       [ 2.39325642e-01,  1.05022212e+00,  5.40333144e-01,\n",
       "        -3.84060174e-01,  1.72263298e-01, -8.03462718e-01,\n",
       "        -4.90732345e-01, -1.10431526e+00, -9.89070710e-01],\n",
       "       [-5.72300448e-01,  1.18379335e+00,  1.60639583e-01,\n",
       "        -1.96914386e-01, -1.24552236e+00, -8.98582112e-01,\n",
       "        -9.07435083e-01, -1.10431526e+00, -9.89070710e-01],\n",
       "       [-3.01758418e-01, -6.86203833e-01, -5.98747538e-01,\n",
       "        -3.84060174e-01,  7.03059898e-01, -6.60783627e-01,\n",
       "         3.19522978e-01,  9.05538514e-01, -9.89070710e-01],\n",
       "       [-8.42842478e-01,  3.82365986e-01,  1.29972026e+00,\n",
       "         8.38042950e-02, -1.23853819e+00, -9.69921657e-01,\n",
       "        -8.61134779e-01, -1.10431526e+00, -9.89070710e-01],\n",
       "       [ 1.59203579e+00, -1.82155927e+00, -2.19053977e-01,\n",
       "        -3.84060174e-01,  1.12909401e+00,  6.55034653e-01,\n",
       "         2.51878743e+00,  9.05538514e-01,  1.01105006e+00],\n",
       "       [ 1.86257782e+00, -1.15370313e+00, -9.78441098e-01,\n",
       "        -1.03341493e-01,  5.28455753e-01, -2.72379436e-01,\n",
       "        -1.43480064e-01,  9.05538514e-01,  1.01105006e+00],\n",
       "       [-3.01758418e-01,  1.82009145e-01, -5.98747538e-01,\n",
       "        -3.84060174e-01,  4.79566593e-01, -1.77260042e-01,\n",
       "        -1.89780368e-01,  9.05538514e-01, -9.89070710e-01],\n",
       "       [ 7.80409702e-01,  4.84379176e-02, -2.19053977e-01,\n",
       "        -3.84060174e-01,  6.54170737e-01,  3.37970007e-01,\n",
       "         2.50072522e-01,  9.05538514e-01, -9.89070710e-01],\n",
       "       [-2.73663669e+00,  1.58450703e+00, -2.19053977e-01,\n",
       "         4.34137096e+00, -3.29188293e+00, -1.11260075e+00,\n",
       "        -1.11578645e+00, -1.10431526e+00, -9.89070710e-01],\n",
       "       [ 5.09867672e-01, -2.85490151e-01,  9.20026704e-01,\n",
       "        -3.84060174e-01,  7.24012395e-01, -9.00672648e-02,\n",
       "         7.36225716e-01,  9.05538514e-01,  1.01105006e+00],\n",
       "       [-1.11338451e+00,  1.45093581e+00,  9.20026704e-01,\n",
       "        -3.84060174e-01,  4.30677432e-01, -9.79938809e-02,\n",
       "        -7.40296073e-02,  9.05538514e-01, -9.89070710e-01],\n",
       "       [-5.72300448e-01, -2.85490151e-01, -1.35813466e+00,\n",
       "         1.53418415e+00, -8.05519912e-01, -8.51022415e-01,\n",
       "        -8.84284931e-01, -1.10431526e+00,  1.01105006e+00],\n",
       "       [-3.01758418e-01,  1.15223531e-01,  9.20026704e-01,\n",
       "        -3.84060174e-01,  6.40202406e-01,  2.42850613e-01,\n",
       "         4.35273739e-01,  9.05538514e-01, -9.89070710e-01],\n",
       "       [ 7.80409702e-01,  1.15223531e-01,  5.40333144e-01,\n",
       "        -3.84060174e-01,  6.68139069e-01,  1.36050349e+00,\n",
       "         4.58423891e-01,  9.05538514e-01, -9.89070710e-01],\n",
       "       [-3.01758418e-01, -4.85846992e-01,  1.60639583e-01,\n",
       "        -3.37273727e-01,  1.58294966e-01, -8.11389334e-01,\n",
       "        -5.37032649e-01, -1.10431526e+00, -9.89070710e-01],\n",
       "       [-3.12163881e-02, -1.51918923e-01, -5.98747538e-01,\n",
       "        -2.90487280e-01, -3.72616757e-02, -6.92490092e-01,\n",
       "        -6.99083714e-01, -1.10431526e+00,  1.01105006e+00],\n",
       "       [-8.42842478e-01,  8.49865282e-01,  1.60639583e-01,\n",
       "        -3.84060174e-01,  2.21152458e-01, -8.98582112e-01,\n",
       "        -4.67582193e-01,  9.05538514e-01, -9.89070710e-01],\n",
       "       [ 7.80409702e-01, -1.08691752e+00, -9.78441098e-01,\n",
       "        -2.43700833e-01,  4.37661598e-01,  1.71511068e-01,\n",
       "        -3.05531128e-01,  9.05538514e-01,  1.01105006e+00],\n",
       "       [-8.42842478e-01,  1.65129265e+00, -2.19053977e-01,\n",
       "        -1.96914386e-01, -2.11155892e+00, -8.35169182e-01,\n",
       "        -1.06948615e+00, -1.10431526e+00,  1.01105006e+00],\n",
       "       [-1.38392654e+00,  1.65129265e+00,  5.09665587e+00,\n",
       "        -1.50127939e-01, -2.21632140e+00, -8.90655495e-01,\n",
       "        -1.02318584e+00, -1.10431526e+00,  1.01105006e+00],\n",
       "       [ 1.05095173e+00, -4.85846992e-01, -9.78441098e-01,\n",
       "        -2.43700833e-01,  3.32899111e-01,  6.84650581e-02,\n",
       "        -2.59230824e-01,  9.05538514e-01, -9.89070710e-01],\n",
       "       [-3.01758418e-01, -5.52632606e-01, -1.73782822e+00,\n",
       "        -3.84060174e-01,  3.04962448e-01, -6.92490092e-01,\n",
       "        -5.37032649e-01, -1.10431526e+00, -9.89070710e-01],\n",
       "       [-3.01758418e-01, -4.85846992e-01, -1.73782822e+00,\n",
       "        -3.84060174e-01,  7.10044064e-01,  1.39804603e-01,\n",
       "         1.34321762e-01,  9.05538514e-01, -9.89070710e-01],\n",
       "       [-5.72300448e-01,  1.78486387e+00,  1.60639583e-01,\n",
       "        -1.03341493e-01, -2.81695966e+00, -1.08089428e+00,\n",
       "        -1.11578645e+00, -1.10431526e+00, -9.89070710e-01],\n",
       "       [ 1.32149376e+00, -1.48763120e+00, -9.78441098e-01,\n",
       "        -3.84060174e-01,  9.96394861e-01,  5.99548340e-01,\n",
       "         1.38442998e+00,  9.05538514e-01,  1.01105006e+00],\n",
       "       [-3.12163881e-02,  4.49151600e-01,  1.60639583e-01,\n",
       "        -3.84060174e-01,  6.19249908e-01,  6.05384420e-02,\n",
       "         1.57471914e-01,  9.05538514e-01, -9.89070710e-01],\n",
       "       [-3.12163881e-02,  1.25057896e+00,  5.40333144e-01,\n",
       "        -3.84060174e-01,  4.86550758e-01,  5.04428946e-01,\n",
       "        -2.77293031e-02,  9.05538514e-01,  1.01105006e+00],\n",
       "       [-3.12163881e-02,  3.82365986e-01, -5.98747538e-01,\n",
       "         2.70950082e-01, -7.70599084e-01, -5.57737617e-01,\n",
       "        -8.61134779e-01, -1.10431526e+00, -9.89070710e-01],\n",
       "       [ 1.05095173e+00, -4.19061378e-01,  1.60639583e-01,\n",
       "        -3.84060174e-01,  7.86869887e-01,  7.18447582e-01,\n",
       "         7.82526020e-01,  9.05538514e-01,  1.01105006e+00],\n",
       "       [-8.42842478e-01,  1.82009145e-01,  1.29972026e+00,\n",
       "        -1.03341493e-01, -6.51868265e-01, -7.32123173e-01,\n",
       "        -7.68534170e-01, -1.10431526e+00, -9.89070710e-01],\n",
       "       [ 2.39325642e-01, -1.68798804e+00,  1.60639583e-01,\n",
       "        -3.84060174e-01,  1.01734736e+00,  3.69092864e+00,\n",
       "         1.91688347e+00,  9.05538514e-01,  1.01105006e+00],\n",
       "       [ 1.59203579e+00, -1.28727436e+00, -9.78441098e-01,\n",
       "        -1.50127939e-01,  5.14487422e-01, -1.37626962e-01,\n",
       "        -1.66630216e-01,  9.05538514e-01,  1.01105006e+00],\n",
       "       [-3.01758418e-01, -1.35405997e+00,  2.05910739e+00,\n",
       "        -3.84060174e-01,  9.05600706e-01,  2.74557078e-01,\n",
       "         1.98633393e+00,  9.05538514e-01,  1.01105006e+00],\n",
       "       [ 5.09867672e-01,  1.15223531e-01, -5.98747538e-01,\n",
       "        -3.84060174e-01,  7.86869887e-01,  2.04219248e+00,\n",
       "         9.67727237e-01,  9.05538514e-01, -9.89070710e-01],\n",
       "       [ 1.05095173e+00, -6.19418219e-01,  1.29972026e+00,\n",
       "        -3.84060174e-01,  8.07822385e-01,  1.87364300e-01,\n",
       "         1.19922876e+00,  9.05538514e-01, -9.89070710e-01],\n",
       "       [-3.01758418e-01,  1.05022212e+00,  9.20026704e-01,\n",
       "        -3.84060174e-01,  5.70360748e-01,  2.44644990e+00,\n",
       "        -2.77293031e-02,  9.05538514e-01, -9.89070710e-01],\n",
       "       [ 5.09867672e-01, -4.19061378e-01, -2.19053977e-01,\n",
       "         9.72746786e-01, -1.97897489e-01, -6.05297314e-01,\n",
       "        -7.45384018e-01, -1.10431526e+00,  1.01105006e+00],\n",
       "       [ 2.39325642e-01, -3.52275765e-01,  1.60639583e-01,\n",
       "        -3.84060174e-01,  6.89091566e-01,  7.63916743e-02,\n",
       "         4.35273739e-01,  9.05538514e-01,  1.01105006e+00],\n",
       "       [-3.01758418e-01,  6.49508441e-01, -5.98747538e-01,\n",
       "        -3.84060174e-01,  4.58614095e-01, -5.10177920e-01,\n",
       "        -2.36080672e-01,  9.05538514e-01,  1.01105006e+00],\n",
       "       [ 1.05095173e+00, -1.95513049e+00, -9.78441098e-01,\n",
       "        -3.37273727e-01,  9.05600706e-01,  8.76979905e-01,\n",
       "         9.67727237e-01,  9.05538514e-01,  1.01105006e+00],\n",
       "       [ 5.09867672e-01, -4.19061378e-01,  5.40333144e-01,\n",
       "        -3.37273727e-01,  4.93534924e-01, -3.99205294e-01,\n",
       "        -2.77293031e-02,  9.05538514e-01,  1.01105006e+00]])"
      ]
     },
     "execution_count": 36,
     "metadata": {},
     "output_type": "execute_result"
    }
   ],
   "source": [
    "x_test_scaled"
   ]
  },
  {
   "cell_type": "markdown",
   "id": "6a47eada",
   "metadata": {},
   "source": [
    "# Box Plot to understand Effect of Standard Scaler"
   ]
  },
  {
   "cell_type": "code",
   "execution_count": 41,
   "id": "6773c9e8",
   "metadata": {},
   "outputs": [
    {
     "data": {
      "text/plain": [
       "Text(0.5, 1.0, 'x_train after scaling')"
      ]
     },
     "execution_count": 41,
     "metadata": {},
     "output_type": "execute_result"
    },
    {
     "data": {
      "image/png": "[encoded data removed]",
      "text/plain": [
       "<Figure size 1500x500 with 1 Axes>"
      ]
     },
     "metadata": {},
     "output_type": "display_data"
    },
    {
     "data": {
      "image/png": "[encoded data removed]",
      "text/plain": [
       "<Figure size 1500x500 with 1 Axes>"
      ]
     },
     "metadata": {},
     "output_type": "display_data"
    }
   ],
   "source": [
    "plt.subplots(figsize=(15,5))\n",
    "plt.subplot(1,2,1)\n",
    "sns.boxplot(data=x_train)\n",
    "plt.title('x_train before scaling')\n",
    "plt.subplots(figsize=(15,5))\n",
    "plt.subplot(1,2,2)\n",
    "sns.boxplot(data=x_trained_scaled)\n",
    "plt.title('x_train after scaling')"
   ]
  },
  {
   "cell_type": "markdown",
   "id": "414771ec",
   "metadata": {},
   "source": [
    "# Linear Regression Model"
   ]
  },
  {
   "cell_type": "code",
   "execution_count": 42,
   "id": "4ab81fc2",
   "metadata": {},
   "outputs": [
    {
     "name": "stdout",
     "output_type": "stream",
     "text": [
      "mean absolute error : 0.5468236465249987\n",
      "R2 score 0.9847657384266951\n"
     ]
    }
   ],
   "source": [
    "from sklearn.linear_model import LinearRegression\n",
    "from sklearn.metrics import mean_absolute_error\n",
    "from sklearn.metrics import r2_score\n",
    "Linreg= LinearRegression()\n",
    "Linreg.fit(x_trained_scaled,y_train)\n",
    "y_pred= Linreg.predict(x_test_scaled)\n",
    "mae= mean_absolute_error(y_test,y_pred)\n",
    "score = r2_score(y_test,y_pred)\n",
    "print(\"mean absolute error :\",mae)\n",
    "print(\"R2 score\",score)"
   ]
  },
  {
   "cell_type": "markdown",
   "id": "cf273fa6",
   "metadata": {},
   "source": [
    "# Lasso Regression Model"
   ]
  },
  {
   "cell_type": "code",
   "execution_count": 44,
   "id": "fdecd1a3",
   "metadata": {},
   "outputs": [
    {
     "name": "stdout",
     "output_type": "stream",
     "text": [
      "mean absolute error : 1.1331759949144085\n",
      "R2 score 0.9492020263112388\n"
     ]
    }
   ],
   "source": [
    "from sklearn.linear_model import Lasso\n",
    "from sklearn.metrics import mean_absolute_error\n",
    "from sklearn.metrics import r2_score\n",
    "Lasso = Lasso()\n",
    "Lasso.fit(x_trained_scaled,y_train)\n",
    "y_pred = Lasso.predict(x_test_scaled)\n",
    "mae = mean_absolute_error(y_test,y_pred)\n",
    "score = r2_score(y_test,y_pred)\n",
    "print(\"mean absolute error :\",mae)\n",
    "print(\"R2 score\",score)"
   ]
  },
  {
   "cell_type": "markdown",
   "id": "9545aeb6",
   "metadata": {},
   "source": [
    "# Ridge Regression Model"
   ]
  },
  {
   "cell_type": "code",
   "execution_count": 45,
   "id": "79414e3f",
   "metadata": {},
   "outputs": [
    {
     "name": "stdout",
     "output_type": "stream",
     "text": [
      "mean absolute error : 1.1331759949144085\n",
      "R2 score 0.9492020263112388\n"
     ]
    }
   ],
   "source": [
    "from sklearn.linear_model import Ridge\n",
    "from sklearn.metrics import mean_absolute_error\n",
    "from sklearn.metrics import r2_score\n",
    "Ridge = Ridge()\n",
    "Ridge.fit(x_trained_scaled,y_train)\n",
    "y_pred = Lasso.predict(x_test_scaled)\n",
    "mae = mean_absolute_error(y_test,y_pred)\n",
    "score = r2_score(y_test,y_pred)\n",
    "print(\"mean absolute error :\",mae)\n",
    "print(\"R2 score\",score)"
   ]
  },
  {
   "cell_type": "markdown",
   "id": "82a670a5",
   "metadata": {},
   "source": [
    "# Elasticnet Regression"
   ]
  },
  {
   "cell_type": "code",
   "execution_count": 46,
   "id": "79289487",
   "metadata": {},
   "outputs": [
    {
     "name": "stdout",
     "output_type": "stream",
     "text": [
      "mean absolute error : 1.1331759949144085\n",
      "R2 score 0.9492020263112388\n"
     ]
    }
   ],
   "source": [
    "from sklearn.linear_model import ElasticNet\n",
    "from sklearn.metrics import mean_absolute_error\n",
    "from sklearn.metrics import r2_score\n",
    "elast = ElasticNet()\n",
    "elast.fit(x_trained_scaled,y_train)\n",
    "y_pred = Lasso.predict(x_test_scaled)\n",
    "mae = mean_absolute_error(y_test,y_pred)\n",
    "score = r2_score(y_test,y_pred)\n",
    "print(\"mean absolute error :\",mae)\n",
    "print(\"R2 score\",score)"
   ]
  },
  {
   "cell_type": "code",
   "execution_count": 47,
   "id": "42d9b157",
   "metadata": {},
   "outputs": [],
   "source": [
    "import pickle\n",
    "pickle.dump(scaler,open('scaler.pkl','wb'))\n",
    "pickle.dump(Ridge,open('ridge.pkl','wb'))"
   ]
  },
  {
   "cell_type": "code",
   "execution_count": null,
   "id": "fdd65c50",
   "metadata": {},
   "outputs": [],
   "source": []
  }
 ],
 "metadata": {
  "kernelspec": {
   "display_name": "Python 3 (ipykernel)",
   "language": "python",
   "name": "python3"
  },
  "language_info": {
   "codemirror_mode": {
    "name": "ipython",
    "version": 3
   },
   "file_extension": ".py",
   "mimetype": "text/x-python",
   "name": "python",
   "nbconvert_exporter": "python",
   "pygments_lexer": "ipython3",
   "version": "3.9.13"
  }
 },
 "nbformat": 4,
 "nbformat_minor": 5
}
